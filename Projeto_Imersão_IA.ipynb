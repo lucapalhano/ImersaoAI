{
  "nbformat": 4,
  "nbformat_minor": 0,
  "metadata": {
    "colab": {
      "provenance": [],
      "authorship_tag": "ABX9TyOmSVkmBooVm6nLe5IvffeW",
      "include_colab_link": true
    },
    "kernelspec": {
      "name": "python3",
      "display_name": "Python 3"
    },
    "language_info": {
      "name": "python"
    }
  },
  "cells": [
    {
      "cell_type": "markdown",
      "metadata": {
        "id": "view-in-github",
        "colab_type": "text"
      },
      "source": [
        "<a href=\"https://colab.research.google.com/github/lucapalhano/ImersaoAI/blob/main/Projeto_Imers%C3%A3o_IA.ipynb\" target=\"_parent\"><img src=\"https://colab.research.google.com/assets/colab-badge.svg\" alt=\"Open In Colab\"/></a>"
      ]
    },
    {
      "cell_type": "code",
      "execution_count": null,
      "metadata": {
        "id": "EbXrebdKjiVs"
      },
      "outputs": [],
      "source": [
        "!pip install -q -U google-generativeai"
      ]
    },
    {
      "cell_type": "code",
      "source": [
        "# Import the Python SDK\n",
        "import google.generativeai as genai\n",
        "# Used to securely store your API key\n",
        "from google.colab import userdata\n",
        "api_key = userdata.get('SECRET_KEY')\n",
        "genai.configure(api_key=api_key)"
      ],
      "metadata": {
        "id": "IVGBR45BjyTb"
      },
      "execution_count": 33,
      "outputs": []
    },
    {
      "cell_type": "markdown",
      "source": [
        "Listar modelos disponíveis"
      ],
      "metadata": {
        "id": "a0Uo5zLKkCMJ"
      }
    },
    {
      "cell_type": "code",
      "source": [
        "for m in genai.list_models():\n",
        "  if 'generateContent' in m.supported_generation_methods:\n",
        "    print(m.name)"
      ],
      "metadata": {
        "id": "uZIYnKj0kI5g",
        "colab": {
          "base_uri": "https://localhost:8080/",
          "height": 139
        },
        "outputId": "702004d3-d7d3-4566-83cd-87fd45d1ba45"
      },
      "execution_count": 34,
      "outputs": [
        {
          "output_type": "stream",
          "name": "stdout",
          "text": [
            "models/gemini-1.0-pro\n",
            "models/gemini-1.0-pro-001\n",
            "models/gemini-1.0-pro-latest\n",
            "models/gemini-1.0-pro-vision-latest\n",
            "models/gemini-1.5-pro-latest\n",
            "models/gemini-pro\n",
            "models/gemini-pro-vision\n"
          ]
        }
      ]
    },
    {
      "cell_type": "code",
      "source": [
        "generation_config = {\n",
        "    \"candidate_count\": 1,\n",
        "    \"temperature\": 0.5,\n",
        "}"
      ],
      "metadata": {
        "id": "4vGOvw2Awjl1"
      },
      "execution_count": 35,
      "outputs": []
    },
    {
      "cell_type": "code",
      "source": [
        "safety_settings = {\n",
        "    \"harassment\": \"block_none\",\n",
        "    \"hate\": \"block_none\",\n",
        "    \"sexual\": \"block_none\",\n",
        "    \"dangerous\": \"block_none\"\n",
        "}"
      ],
      "metadata": {
        "id": "_-DIjnxrwul8"
      },
      "execution_count": 36,
      "outputs": []
    },
    {
      "cell_type": "markdown",
      "source": [
        "Inicializar o modelo"
      ],
      "metadata": {
        "id": "_FO0fj9_xhVD"
      }
    },
    {
      "cell_type": "code",
      "source": [
        "model = genai.GenerativeModel(model_name=\"gemini-1.0-pro\",\n",
        "                              generation_config=generation_config,\n",
        "                              safety_settings=safety_settings)"
      ],
      "metadata": {
        "id": "PSJCvph1xiab"
      },
      "execution_count": 37,
      "outputs": []
    },
    {
      "cell_type": "markdown",
      "source": [
        "Resposta"
      ],
      "metadata": {
        "id": "fxqe2V4k-7Eg"
      }
    },
    {
      "cell_type": "code",
      "source": [
        "prompt = input(\"Insira a ementa aqui: \")\n",
        "response = model.generate_content(\"Prepare-me o roteiro de uma aula de 90 minutos para a ementa a seguir: \" + prompt)\n",
        "print(response.text)"
      ],
      "metadata": {
        "id": "RCSt1Na305u4",
        "colab": {
          "base_uri": "https://localhost:8080/",
          "height": 763
        },
        "outputId": "5a161a1f-988a-4f53-dd11-e62485fd81e6"
      },
      "execution_count": 39,
      "outputs": [
        {
          "output_type": "stream",
          "name": "stdout",
          "text": [
            "Insira a ementa aqui: Prazos e atos processuais. Citação e Intimação.\n",
            "**Roteiro de Aula: Prazos e Atos Processuais. Citação e Intimação.**\n",
            "\n",
            "**Duração:** 90 minutos\n",
            "\n",
            "**Objetivos:**\n",
            "\n",
            "* Compreender os conceitos de prazos e atos processuais.\n",
            "* Distinguir entre citação e intimação.\n",
            "* Analisar os requisitos e efeitos de cada ato.\n",
            "\n",
            "**Estrutura da Aula:**\n",
            "\n",
            "**I. Introdução (15 minutos)**\n",
            "\n",
            "* Conceito de prazos e atos processuais\n",
            "* Importância dos prazos no processo judicial\n",
            "* Tipos de prazos\n",
            "\n",
            "**II. Citação (45 minutos)**\n",
            "\n",
            "* Conceito de citação\n",
            "* Formas de citação\n",
            "* Requisitos da citação\n",
            "* Efeitos da citação\n",
            "* Citação por edital\n",
            "\n",
            "**III. Intimação (30 minutos)**\n",
            "\n",
            "* Conceito de intimação\n",
            "* Formas de intimação\n",
            "* Requisitos da intimação\n",
            "* Efeitos da intimação\n",
            "\n",
            "**IV. Atividade Prática (15 minutos)**\n",
            "\n",
            "* Análise de casos práticos envolvendo citação e intimação\n",
            "* Discussão sobre as implicações processuais de cada ato\n",
            "\n",
            "**V. Conclusão (5 minutos)**\n",
            "\n",
            "* Resumo dos principais conceitos abordados\n",
            "* Ênfase na importância do cumprimento dos prazos e atos processuais\n"
          ]
        }
      ]
    }
  ]
}